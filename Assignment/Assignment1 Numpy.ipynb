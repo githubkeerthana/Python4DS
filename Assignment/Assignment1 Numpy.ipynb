{
 "cells": [
  {
   "cell_type": "markdown",
   "metadata": {},
   "source": [
    "# Assignment"
   ]
  },
  {
   "cell_type": "markdown",
   "metadata": {},
   "source": [
    "Import numpy as np"
   ]
  },
  {
   "cell_type": "code",
   "execution_count": null,
   "metadata": {},
   "outputs": [],
   "source": ["import numpy as np"]
  },
  {
   "cell_type": "markdown",
   "metadata": {},
   "source": [
    "Make a python list => \\[1,2,3,4,5\\]\n",
    "\n",
    "Convert it into numpy array and print it"
   ]
  },
  {
   "cell_type": "code",
   "execution_count": null,
   "metadata": {},
   "outputs": [],
   "source": [
    "list1=[1,2,3,4,5]"
    "np.array(list1)"
    "list1"
   ]
  },
  {
   "cell_type": "markdown",
   "metadata": {},
   "source": [
    "Make a python matrix (3 x 3) => \\[[1,2,3],[4,5,6],[7,8,9]\\]\n",
    "\n",
    "Convert it into numpy array and print it"
   ]
  },
  {
   "cell_type": "code",
   "execution_count": null,
   "metadata": {},
   "outputs": [], 
   "source": [
    "matrix1=np.arrange(1,10)"
    "matrix1=matrix1.reshape(3,3)"
    "np.array(matrix1)"
    "matrix1"
   ]
  },
  {
   "cell_type": "markdown",
   "metadata": {},
   "source": [
    "Make a matrix (3 x 3) using built-in methods (like arange(), reshape() etc.):\n",
    "\n",
    "\\[ [1,3,5],\n",
    "\n",
    " [7,9,11],\n",
    " \n",
    " [13,15,17] \\]"
   ]
  },
  {
   "cell_type": "code",
   "execution_count": null,
   "metadata": {},
   "outputs": [],
   "source": [
   "matrix2=np.arange(1,18,2)"
   "matrix2=matrix2.reshape(3,3)"
   "matrix2"
   ]
  },
  {
   "cell_type": "markdown",
   "metadata": {},
   "source": [
    "Create a numpy array with 10 random numbers from 0 to 10 (there should be few numbers greater than 1)"
   ]
  },
  {
   "cell_type": "code",
   "execution_count": 6,
   "metadata": {},
   "outputs": [],
   "source": [
    "arr=np.random.rand(0,10)*2"
    "arr=np.array(arr)"
    "arr"
   ]
  },
  {
   "cell_type": "markdown",
   "metadata": {},
   "source": [
    "Create numpy array => \\[1,2,3,4,5\\] and convert it to 2D array with 5 rows"
   ]
  },
  {
   "cell_type": "code",
   "execution_count": 11,
   "metadata": {},
   "outputs": [],
   "source": [
  " arr1=np.array([1,2,3,4,5])"
   "arr1=arr.reshape(5,1)"
   "print(arr1)"
   ]
  },
  {
   "cell_type": "markdown",
   "metadata": {},
   "source": [
    "Print the shape of the above created array"
   ]
  },
  {
   "cell_type": "code",
   "execution_count": null,
   "metadata": {},
   "outputs": [],
   "source": [
    "print(np.shape(arr1))"
   ]
  },
  {
   "cell_type": "markdown",
   "metadata": {},
   "source": [
    "Create a numpy array with 10 elements in it. Access and print its 3rd, 4th and 9th element."
   ]
  },
  {
   "cell_type": "code",
   "execution_count": null,
   "metadata": {},
   "outputs": [],
   "source": [
   "arr2=np.array([19,45,12,67,23,56,79,90,21,78])"
    "arr2[2]"
    "arr2[3]"
    "arr2[8]"
   ]
  },
  {
   "cell_type": "markdown",
   "metadata": {},
   "source": [
    "Print alternate elements of that array"
   ]
  },
  {
   "cell_type": "code",
   "execution_count": null,
   "metadata": {},
   "outputs": [],
   "source": [
   "print(arr2[0:10:2])"
   ]
  },
  {
   "cell_type": "markdown",
   "metadata": {},
   "source": [
    "Change last 3 elements into 100 using broadcasting and print"
   ]
  },
  {
   "cell_type": "code",
   "execution_count": null,
   "metadata": {},
   "outputs": [],
   "source": [
   "arr2[7:]=100"
    "arr"
   ]
  },
  {
   "cell_type": "markdown",
   "metadata": {},
   "source": [
    "Create a 5 x 5 matrix (fill it with any element you like), print it.\n",
    "\n",
    "Then print the middle (3 x 3) matrix."
   ]
  },
  {
   "cell_type": "code",
   "execution_count": null,
   "metadata": {},
   "outputs": [],
   "source": [
   "mat = np.arange(5,30)"
   "mat= mat.reshape(5,5)"
   "print(mat[1:4print(mat),1:4])"
   ]
  }
 ],
 "metadata": {
  "kernelspec": {
   "display_name": "Python 3",
   "language": "python",
   "name": "python3"
  },
  "language_info": {
   "codemirror_mode": {
    "name": "ipython",
    "version": 3
   },
   "file_extension": ".py",
   "mimetype": "text/x-python",
   "name": "python",
   "nbconvert_exporter": "python",
   "pygments_lexer": "ipython3",
   "version": "3.7.1"
  }
 },
 "nbformat": 4,
 "nbformat_minor": 2
}
